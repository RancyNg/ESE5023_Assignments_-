{
 "cells": [
  {
   "cell_type": "code",
   "execution_count": 2,
   "id": "7102edd4",
   "metadata": {},
   "outputs": [],
   "source": [
    "import pandas as pd\n",
    "import numpy as np\n",
    "import matplotlib.pyplot as plt\n"
   ]
  },
  {
   "cell_type": "code",
   "execution_count": 3,
   "id": "98054c94",
   "metadata": {},
   "outputs": [
    {
     "data": {
      "text/html": [
       "<div>\n",
       "<style scoped>\n",
       "    .dataframe tbody tr th:only-of-type {\n",
       "        vertical-align: middle;\n",
       "    }\n",
       "\n",
       "    .dataframe tbody tr th {\n",
       "        vertical-align: top;\n",
       "    }\n",
       "\n",
       "    .dataframe thead th {\n",
       "        text-align: right;\n",
       "    }\n",
       "</style>\n",
       "<table border=\"1\" class=\"dataframe\">\n",
       "  <thead>\n",
       "    <tr style=\"text-align: right;\">\n",
       "      <th></th>\n",
       "      <th>date</th>\n",
       "      <th>time</th>\n",
       "      <th>head</th>\n",
       "    </tr>\n",
       "  </thead>\n",
       "  <tbody>\n",
       "    <tr>\n",
       "      <th>0</th>\n",
       "      <td>2021/8/13</td>\n",
       "      <td>14:57:37</td>\n",
       "      <td>1018.567</td>\n",
       "    </tr>\n",
       "    <tr>\n",
       "      <th>1</th>\n",
       "      <td>2021/8/13</td>\n",
       "      <td>14:57:47</td>\n",
       "      <td>1018.683</td>\n",
       "    </tr>\n",
       "    <tr>\n",
       "      <th>2</th>\n",
       "      <td>2021/8/13</td>\n",
       "      <td>14:57:57</td>\n",
       "      <td>1018.683</td>\n",
       "    </tr>\n",
       "    <tr>\n",
       "      <th>3</th>\n",
       "      <td>2021/8/13</td>\n",
       "      <td>14:58:07</td>\n",
       "      <td>1018.567</td>\n",
       "    </tr>\n",
       "    <tr>\n",
       "      <th>4</th>\n",
       "      <td>2021/8/13</td>\n",
       "      <td>14:58:17</td>\n",
       "      <td>1018.975</td>\n",
       "    </tr>\n",
       "    <tr>\n",
       "      <th>...</th>\n",
       "      <td>...</td>\n",
       "      <td>...</td>\n",
       "      <td>...</td>\n",
       "    </tr>\n",
       "    <tr>\n",
       "      <th>1337</th>\n",
       "      <td>2021/8/13</td>\n",
       "      <td>18:40:27</td>\n",
       "      <td>1019.033</td>\n",
       "    </tr>\n",
       "    <tr>\n",
       "      <th>1338</th>\n",
       "      <td>2021/8/13</td>\n",
       "      <td>18:40:37</td>\n",
       "      <td>1020.725</td>\n",
       "    </tr>\n",
       "    <tr>\n",
       "      <th>1339</th>\n",
       "      <td>2021/8/13</td>\n",
       "      <td>18:40:47</td>\n",
       "      <td>1020.842</td>\n",
       "    </tr>\n",
       "    <tr>\n",
       "      <th>1340</th>\n",
       "      <td>2021/8/13</td>\n",
       "      <td>18:40:57</td>\n",
       "      <td>1018.508</td>\n",
       "    </tr>\n",
       "    <tr>\n",
       "      <th>1341</th>\n",
       "      <td>2021/8/13</td>\n",
       "      <td>18:41:07</td>\n",
       "      <td>1018.450</td>\n",
       "    </tr>\n",
       "  </tbody>\n",
       "</table>\n",
       "<p>1342 rows × 3 columns</p>\n",
       "</div>"
      ],
      "text/plain": [
       "           date      time      head\n",
       "0     2021/8/13  14:57:37  1018.567\n",
       "1     2021/8/13  14:57:47  1018.683\n",
       "2     2021/8/13  14:57:57  1018.683\n",
       "3     2021/8/13  14:58:07  1018.567\n",
       "4     2021/8/13  14:58:17  1018.975\n",
       "...         ...       ...       ...\n",
       "1337  2021/8/13  18:40:27  1019.033\n",
       "1338  2021/8/13  18:40:37  1020.725\n",
       "1339  2021/8/13  18:40:47  1020.842\n",
       "1340  2021/8/13  18:40:57  1018.508\n",
       "1341  2021/8/13  18:41:07  1018.450\n",
       "\n",
       "[1342 rows x 3 columns]"
      ]
     },
     "execution_count": 3,
     "metadata": {},
     "output_type": "execute_result"
    }
   ],
   "source": [
    "#3.1\n",
    "head= pd.read_csv('head.csv')\n",
    "head"
   ]
  },
  {
   "cell_type": "code",
   "execution_count": 4,
   "id": "858371d4",
   "metadata": {},
   "outputs": [
    {
     "data": {
      "text/plain": [
       "[<matplotlib.lines.Line2D at 0x2be2208bf70>]"
      ]
     },
     "execution_count": 4,
     "metadata": {},
     "output_type": "execute_result"
    },
    {
     "data": {
      "image/png": "[encoded data removed]",
      "text/plain": [
       "<Figure size 432x288 with 1 Axes>"
      ]
     },
     "metadata": {
      "needs_background": "light"
     },
     "output_type": "display_data"
    }
   ],
   "source": [
    "#3.2\n",
    "plt.plot(head['time'],head['head'])"
   ]
  },
  {
   "cell_type": "code",
   "execution_count": 12,
   "id": "207a7cdb",
   "metadata": {},
   "outputs": [
    {
     "data": {
      "text/plain": [
       "(1451.342,\n",
       " 1013.783,\n",
       " 1199.2142429210164,\n",
       " 16750.979195589276,\n",
       " 129.42557396275774)"
      ]
     },
     "execution_count": 12,
     "metadata": {},
     "output_type": "execute_result"
    }
   ],
   "source": [
    "#3.3\n",
    "Max=head['head'].max()\n",
    "Min=head['head'].min()\n",
    "Mean=head['head'].mean()\n",
    "variance=(((head['head']-Mean)**2).sum())/1342\n",
    "std_deviation=variance**(1/2)\n",
    "Max,Min,Mean,variance,std_deviation"
   ]
  },
  {
   "cell_type": "code",
   "execution_count": null,
   "id": "36a957b9",
   "metadata": {},
   "outputs": [],
   "source": []
  }
 ],
 "metadata": {
  "kernelspec": {
   "display_name": "Python 3",
   "language": "python",
   "name": "python3"
  },
  "language_info": {
   "codemirror_mode": {
    "name": "ipython",
    "version": 3
   },
   "file_extension": ".py",
   "mimetype": "text/x-python",
   "name": "python",
   "nbconvert_exporter": "python",
   "pygments_lexer": "ipython3",
   "version": "3.8.8"
  }
 },
 "nbformat": 4,
 "nbformat_minor": 5
}
